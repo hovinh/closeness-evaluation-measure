{
 "cells": [
  {
   "cell_type": "code",
   "execution_count": 1,
   "metadata": {},
   "outputs": [],
   "source": [
    "import os \n",
    "import pandas as pd\n",
    "\n",
    "os.chdir('..')\n",
    "from src.CEM import ClosenessEvaluationMeasureCompute, ClosenessInformationQuantityCompute\n",
    "from src.ordinal_class_dist import OrdinalClassDistribution\n",
    "from src.utils import compute_accuracy_score"
   ]
  },
  {
   "cell_type": "markdown",
   "metadata": {},
   "source": [
    "We demonstrate the class proximity of two different distribution"
   ]
  },
  {
   "cell_type": "code",
   "execution_count": 2,
   "metadata": {},
   "outputs": [
    {
     "name": "stdout",
     "output_type": "stream",
     "text": [
      "    class_name  order  count\n",
      "0       reject      1      7\n",
      "1  weak reject      2    105\n",
      "2    undecided      3    193\n",
      "3  weak accept      4     90\n",
      "4       accept      5      7\n",
      "\n",
      "    class_name  order  count\n",
      "0       reject      1    180\n",
      "1  weak reject      2     10\n",
      "2    undecided      3      3\n",
      "3  weak accept      4     10\n",
      "4       accept      5    173\n",
      "First distribution: prox(reject, reject) = 6.844\n",
      "Second distribution: prox(reject, reject) = 2.063\n",
      "\n",
      "First distribution: prox(reject, weak reject) = 1.890\n",
      "Second distribution: prox(reject, weak reject) = 1.911\n",
      "\n",
      "First distribution: prox(reject, undecided) = 0.415\n",
      "Second distribution: prox(reject, undecided) = 1.868\n",
      "\n",
      "First distribution: prox(reject, weak accept) = 0.038\n",
      "Second distribution: prox(reject, weak accept) = 1.734\n",
      "\n",
      "First distribution: prox(reject, accept) = 0.013\n",
      "Second distribution: prox(reject, accept) = 0.395\n",
      "\n",
      "First distribution: prox(weak reject, reject) = 2.756\n",
      "Second distribution: prox(weak reject, reject) = 1.023\n",
      "\n",
      "First distribution: prox(weak reject, weak reject) = 2.937\n",
      "Second distribution: prox(weak reject, weak reject) = 6.233\n",
      "\n",
      "First distribution: prox(weak reject, undecided) = 0.711\n",
      "Second distribution: prox(weak reject, undecided) = 5.555\n",
      "\n",
      "First distribution: prox(weak reject, weak accept) = 0.261\n",
      "Second distribution: prox(weak reject, weak accept) = 4.385\n",
      "\n",
      "First distribution: prox(weak reject, accept) = 0.231\n",
      "Second distribution: prox(weak reject, accept) = 0.977\n",
      "\n",
      "First distribution: prox(undecided, reject) = 0.947\n",
      "Second distribution: prox(undecided, reject) = 0.973\n",
      "\n",
      "First distribution: prox(undecided, weak reject) = 0.996\n",
      "Second distribution: prox(undecided, weak reject) = 5.031\n",
      "\n",
      "First distribution: prox(undecided, undecided) = 2.059\n",
      "Second distribution: prox(undecided, undecided) = 7.970\n",
      "\n",
      "First distribution: prox(undecided, weak accept) = 1.108\n",
      "Second distribution: prox(undecided, weak accept) = 5.031\n",
      "\n",
      "First distribution: prox(undecided, accept) = 1.055\n",
      "Second distribution: prox(undecided, accept) = 1.027\n",
      "\n",
      "First distribution: prox(weak accept, reject) = 0.200\n",
      "Second distribution: prox(weak accept, reject) = 0.925\n",
      "\n",
      "First distribution: prox(weak accept, weak reject) = 0.229\n",
      "Second distribution: prox(weak accept, weak reject) = 4.385\n",
      "\n",
      "First distribution: prox(weak accept, undecided) = 0.756\n",
      "Second distribution: prox(weak accept, undecided) = 5.555\n",
      "\n",
      "First distribution: prox(weak accept, weak accept) = 3.159\n",
      "Second distribution: prox(weak accept, weak accept) = 6.233\n",
      "\n",
      "First distribution: prox(weak accept, accept) = 2.951\n",
      "Second distribution: prox(weak accept, accept) = 1.079\n",
      "\n",
      "First distribution: prox(accept, reject) = 0.013\n",
      "Second distribution: prox(accept, reject) = 0.377\n",
      "\n",
      "First distribution: prox(accept, weak reject) = 0.038\n",
      "Second distribution: prox(accept, weak reject) = 1.780\n",
      "\n",
      "First distribution: prox(accept, undecided) = 0.489\n",
      "Second distribution: prox(accept, undecided) = 1.918\n",
      "\n",
      "First distribution: prox(accept, weak accept) = 2.104\n",
      "Second distribution: prox(accept, weak accept) = 1.962\n",
      "\n",
      "First distribution: prox(accept, accept) = 6.844\n",
      "Second distribution: prox(accept, accept) = 2.120\n",
      "\n"
     ]
    }
   ],
   "source": [
    "first_df = pd.read_csv('data/paper-review-example-01.csv', header=0)\n",
    "first_paper_review_dist = OrdinalClassDistribution(first_df['class_name'], first_df['order'], first_df['count'])\n",
    "first_CIQ_compute = ClosenessInformationQuantityCompute(first_paper_review_dist)\n",
    "\n",
    "print (first_df)\n",
    "print ()\n",
    "\n",
    "second_df = pd.read_csv('data/paper-review-example-02.csv', header=0)\n",
    "second_paper_review_dist = OrdinalClassDistribution(second_df['class_name'], second_df['order'], second_df['count'])\n",
    "second_CIQ_compute = ClosenessInformationQuantityCompute(second_paper_review_dist)\n",
    "\n",
    "print (second_df)\n",
    "\n",
    "for first_class_name in first_df['class_name']:\n",
    "    for second_class_name in first_df['class_name']:\n",
    "        first_proximity = first_CIQ_compute.get_proximity_between_two_classes(first_class_name, second_class_name)\n",
    "        second_proximity = second_CIQ_compute.get_proximity_between_two_classes(first_class_name, second_class_name)\n",
    "        print (f'First distribution: prox({first_class_name}, {second_class_name}) = {first_proximity:.3f}')\n",
    "        print (f'Second distribution: prox({first_class_name}, {second_class_name}) = {second_proximity:.3f}')\n",
    "        print ()\n",
    "\n"
   ]
  },
  {
   "cell_type": "markdown",
   "metadata": {},
   "source": [
    "We have 2 models with same accuracy. \n",
    "We will show that CEM can highlight one that performs better subject to the three characteristics:\n",
    "- ordinal invariance\n",
    "- monotonicity\n",
    "- imbalance"
   ]
  },
  {
   "cell_type": "code",
   "execution_count": 3,
   "metadata": {},
   "outputs": [
    {
     "name": "stdout",
     "output_type": "stream",
     "text": [
      "                negative  neutral  positive\n",
      "actual\\predict                             \n",
      "negative               5        1         4\n",
      "neutral                5       50         5\n",
      "positive               7        8        15\n",
      "accuracy: 0.7\n",
      "CEM: 0.7117023174151088\n",
      "                negative  neutral  positive\n",
      "actual\\predict                             \n",
      "negative               7        1         2\n",
      "neutral               12       45         3\n",
      "positive               4        8        18\n",
      "accuracy: 0.7\n",
      "CEM: 0.7596200661509974\n"
     ]
    },
    {
     "data": {
      "text/html": [
       "<div>\n",
       "<style scoped>\n",
       "    .dataframe tbody tr th:only-of-type {\n",
       "        vertical-align: middle;\n",
       "    }\n",
       "\n",
       "    .dataframe tbody tr th {\n",
       "        vertical-align: top;\n",
       "    }\n",
       "\n",
       "    .dataframe thead th {\n",
       "        text-align: right;\n",
       "    }\n",
       "</style>\n",
       "<table border=\"1\" class=\"dataframe\">\n",
       "  <thead>\n",
       "    <tr style=\"text-align: right;\">\n",
       "      <th></th>\n",
       "      <th>negative</th>\n",
       "      <th>neutral</th>\n",
       "      <th>positive</th>\n",
       "    </tr>\n",
       "    <tr>\n",
       "      <th></th>\n",
       "      <th></th>\n",
       "      <th></th>\n",
       "      <th></th>\n",
       "    </tr>\n",
       "  </thead>\n",
       "  <tbody>\n",
       "    <tr>\n",
       "      <th>negative</th>\n",
       "      <td>4.321928</td>\n",
       "      <td>0.621488</td>\n",
       "      <td>0.074001</td>\n",
       "    </tr>\n",
       "    <tr>\n",
       "      <th>neutral</th>\n",
       "      <td>1.321928</td>\n",
       "      <td>1.736966</td>\n",
       "      <td>0.736966</td>\n",
       "    </tr>\n",
       "    <tr>\n",
       "      <th>positive</th>\n",
       "      <td>0.234465</td>\n",
       "      <td>0.415037</td>\n",
       "      <td>2.736966</td>\n",
       "    </tr>\n",
       "  </tbody>\n",
       "</table>\n",
       "</div>"
      ],
      "text/plain": [
       "          negative   neutral  positive\n",
       "                                      \n",
       "negative  4.321928  0.621488  0.074001\n",
       "neutral   1.321928  1.736966  0.736966\n",
       "positive  0.234465  0.415037  2.736966"
      ]
     },
     "execution_count": 3,
     "metadata": {},
     "output_type": "execute_result"
    }
   ],
   "source": [
    "# Model A\n",
    "df = pd.read_csv('data/systemA-confusion-matrix.csv', header=0).set_index('actual\\predict')\n",
    "CEM_compute = ClosenessEvaluationMeasureCompute(\n",
    "    confusion_matrix=df, \n",
    "    class_names=['negative', 'neutral', 'positive'],\n",
    "    orders=[1, 2, 3],)\n",
    "\n",
    "print (df)\n",
    "print (f'accuracy: {compute_accuracy_score(df.values)}')\n",
    "print (f'CEM: {CEM_compute.get_proximity_between_two_dists()}')\n",
    "\n",
    "\n",
    "# Model B\n",
    "df = pd.read_csv('data/systemB-confusion-matrix.csv', header=0).set_index('actual\\predict')\n",
    "CEM_compute = ClosenessEvaluationMeasureCompute(\n",
    "    confusion_matrix=df, \n",
    "    class_names=['negative', 'neutral', 'positive'],\n",
    "    orders=[1, 2, 3],)\n",
    "\n",
    "print (df)\n",
    "print (f'accuracy: {compute_accuracy_score(df.values)}')\n",
    "print (f'CEM: {CEM_compute.get_proximity_between_two_dists()}')\n",
    "\n",
    "# Both having the same proximity matrix of actual class\n",
    "proximity_matrix = CEM_compute.get_proximity_matrix()\n",
    "proximity_matrix"
   ]
  },
  {
   "cell_type": "markdown",
   "metadata": {},
   "source": [
    "Demonstrate ordinal invariance"
   ]
  },
  {
   "cell_type": "code",
   "execution_count": 4,
   "metadata": {},
   "outputs": [
    {
     "name": "stdout",
     "output_type": "stream",
     "text": [
      "CEM value: first example 1.000 and second example 1.000\n"
     ]
    }
   ],
   "source": [
    "df = pd.read_csv('data/ordinal_invariance-example-01.csv', header=0).set_index('actual\\predict')\n",
    "CEM_compute = ClosenessEvaluationMeasureCompute(\n",
    "    confusion_matrix=df, \n",
    "    class_names=['reject', 'weak reject', 'undecided', 'weak accept', 'accept'],\n",
    "    orders=[1, 2, 3, 4, 5],)\n",
    "\n",
    "CEM_value_1 = CEM_compute.get_proximity_between_two_dists()\n",
    "\n",
    "df = pd.read_csv('data/ordinal_invariance-example-02.csv', header=0).set_index('actual\\predict')\n",
    "CEM_compute = ClosenessEvaluationMeasureCompute(\n",
    "    confusion_matrix=df, \n",
    "    class_names=['reject', 'weak reject', 'undecided', 'weak accept', 'accept'],\n",
    "    orders=[1, 2, 3, 4, 5],)\n",
    "\n",
    "CEM_value_2 = CEM_compute.get_proximity_between_two_dists()\n",
    "print (f'CEM value: first example {CEM_value_1:.3f} and second example {CEM_value_2:.3f}')"
   ]
  },
  {
   "cell_type": "markdown",
   "metadata": {},
   "source": [
    "Demonstrate monotonicity"
   ]
  },
  {
   "cell_type": "code",
   "execution_count": 5,
   "metadata": {},
   "outputs": [
    {
     "name": "stdout",
     "output_type": "stream",
     "text": [
      "CEM value: first example 0.942 and second example 0.912\n"
     ]
    }
   ],
   "source": [
    "df = pd.read_csv('data/monotonicity-example-01.csv', header=0).set_index('actual\\predict')\n",
    "CEM_compute = ClosenessEvaluationMeasureCompute(\n",
    "    confusion_matrix=df, \n",
    "    class_names=['reject', 'weak reject', 'undecided', 'weak accept', 'accept'],\n",
    "    orders=[1, 2, 3, 4, 5],)\n",
    "\n",
    "CEM_value_1 = CEM_compute.get_proximity_between_two_dists()\n",
    "\n",
    "df = pd.read_csv('data/monotonicity-example-02.csv', header=0).set_index('actual\\predict')\n",
    "CEM_compute = ClosenessEvaluationMeasureCompute(\n",
    "    confusion_matrix=df, \n",
    "    class_names=['reject', 'weak reject', 'undecided', 'weak accept', 'accept'],\n",
    "    orders=[1, 2, 3, 4, 5],)\n",
    "\n",
    "CEM_value_2 = CEM_compute.get_proximity_between_two_dists()\n",
    "print (f'CEM value: first example {CEM_value_1:.3f} and second example {CEM_value_2:.3f}')"
   ]
  },
  {
   "cell_type": "markdown",
   "metadata": {},
   "source": [
    "Demonstrate imbalance"
   ]
  },
  {
   "cell_type": "code",
   "execution_count": 6,
   "metadata": {},
   "outputs": [
    {
     "name": "stdout",
     "output_type": "stream",
     "text": [
      "CEM value: first example 0.937 and second example 0.950\n"
     ]
    }
   ],
   "source": [
    "df = pd.read_csv('data/imbalance-example-01.csv', header=0).set_index('actual\\predict')\n",
    "CEM_compute = ClosenessEvaluationMeasureCompute(\n",
    "    confusion_matrix=df, \n",
    "    class_names=['reject', 'weak reject', 'undecided', 'weak accept', 'accept'],\n",
    "    orders=[1, 2, 3, 4, 5],)\n",
    "\n",
    "CEM_value_1 = CEM_compute.get_proximity_between_two_dists()\n",
    "\n",
    "df = pd.read_csv('data/imbalance-example-02.csv', header=0).set_index('actual\\predict')\n",
    "CEM_compute = ClosenessEvaluationMeasureCompute(\n",
    "    confusion_matrix=df, \n",
    "    class_names=['reject', 'weak reject', 'undecided', 'weak accept', 'accept'],\n",
    "    orders=[1, 2, 3, 4, 5],)\n",
    "\n",
    "CEM_value_2 = CEM_compute.get_proximity_between_two_dists()\n",
    "print (f'CEM value: first example {CEM_value_1:.3f} and second example {CEM_value_2:.3f}')"
   ]
  }
 ],
 "metadata": {
  "kernelspec": {
   "display_name": "py39_streamlit",
   "language": "python",
   "name": "python3"
  },
  "language_info": {
   "codemirror_mode": {
    "name": "ipython",
    "version": 3
   },
   "file_extension": ".py",
   "mimetype": "text/x-python",
   "name": "python",
   "nbconvert_exporter": "python",
   "pygments_lexer": "ipython3",
   "version": "3.9.19"
  }
 },
 "nbformat": 4,
 "nbformat_minor": 2
}
